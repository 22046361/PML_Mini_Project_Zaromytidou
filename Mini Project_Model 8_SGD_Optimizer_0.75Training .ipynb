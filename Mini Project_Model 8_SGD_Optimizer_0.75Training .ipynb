{
 "cells": [
  {
   "cell_type": "markdown",
   "id": "1f9bb464",
   "metadata": {},
   "source": [
    "# Personalisation and Machine Learning\n",
    "\n"
   ]
  },
  {
   "cell_type": "markdown",
   "id": "c9fe216f",
   "metadata": {},
   "source": [
    "# Mini Project_Model 8_SGD_Optimizer_0.75Training \n",
    "\n",
    "Korina Kyriaki Zaromytidou"
   ]
  },
  {
   "attachments": {},
   "cell_type": "markdown",
   "id": "ab7265dc",
   "metadata": {},
   "source": [
    "This is one of the notebook that show the expirimentation on the model. The data cleaning and processing is the same, which changes noted on the architecture of the model. \n",
    "Code snipper  utilised from the weekly notebooks of this and previous terms, and also referred to code from the Coding 3 notebooks. Whenever I utilized code from external sources, I have included this in comments indicating the source."
   ]
  },
  {
   "cell_type": "code",
   "execution_count": 2,
   "id": "6a98fa49",
   "metadata": {},
   "outputs": [],
   "source": [
    "# Importing relevant libraries \n",
    "\n",
    "import pandas as pd\n",
    "import numpy as np\n",
    "pd.set_option('display.max_rows', 100)\n",
    "pd.set_option('display.max_columns', 100)\n",
    "pd.set_option('display.float_format','{:.5f}'.format)\n",
    "np.set_printoptions(suppress=True)"
   ]
  },
  {
   "cell_type": "code",
   "execution_count": 3,
   "id": "d11db255",
   "metadata": {},
   "outputs": [],
   "source": [
    "# Importing dataset \n",
    "\n",
    "import pandas as pd\n",
    "\n",
    "data = pd.read_csv('data/Preprocessed_data.csv')\n",
    "pd.options.display.max_columns = 150\n"
   ]
  },
  {
   "cell_type": "markdown",
   "id": "5e0ca938",
   "metadata": {},
   "source": [
    "## Understanding the Data"
   ]
  },
  {
   "cell_type": "code",
   "execution_count": 4,
   "id": "16aab50e",
   "metadata": {},
   "outputs": [
    {
     "data": {
      "text/plain": [
       "(1031175, 19)"
      ]
     },
     "execution_count": 4,
     "metadata": {},
     "output_type": "execute_result"
    }
   ],
   "source": [
    "data.shape"
   ]
  },
  {
   "cell_type": "code",
   "execution_count": 5,
   "id": "620df7db",
   "metadata": {},
   "outputs": [
    {
     "data": {
      "text/html": [
       "<div>\n",
       "<style scoped>\n",
       "    .dataframe tbody tr th:only-of-type {\n",
       "        vertical-align: middle;\n",
       "    }\n",
       "\n",
       "    .dataframe tbody tr th {\n",
       "        vertical-align: top;\n",
       "    }\n",
       "\n",
       "    .dataframe thead th {\n",
       "        text-align: right;\n",
       "    }\n",
       "</style>\n",
       "<table border=\"1\" class=\"dataframe\">\n",
       "  <thead>\n",
       "    <tr style=\"text-align: right;\">\n",
       "      <th></th>\n",
       "      <th>Unnamed: 0</th>\n",
       "      <th>user_id</th>\n",
       "      <th>location</th>\n",
       "      <th>age</th>\n",
       "      <th>isbn</th>\n",
       "      <th>rating</th>\n",
       "      <th>book_title</th>\n",
       "      <th>book_author</th>\n",
       "      <th>year_of_publication</th>\n",
       "      <th>publisher</th>\n",
       "      <th>img_s</th>\n",
       "      <th>img_m</th>\n",
       "      <th>img_l</th>\n",
       "      <th>Summary</th>\n",
       "      <th>Language</th>\n",
       "      <th>Category</th>\n",
       "      <th>city</th>\n",
       "      <th>state</th>\n",
       "      <th>country</th>\n",
       "    </tr>\n",
       "  </thead>\n",
       "  <tbody>\n",
       "    <tr>\n",
       "      <th>0</th>\n",
       "      <td>0</td>\n",
       "      <td>2</td>\n",
       "      <td>stockton, california, usa</td>\n",
       "      <td>18.00000</td>\n",
       "      <td>0195153448</td>\n",
       "      <td>0</td>\n",
       "      <td>Classical Mythology</td>\n",
       "      <td>Mark P. O. Morford</td>\n",
       "      <td>2002.00000</td>\n",
       "      <td>Oxford University Press</td>\n",
       "      <td>http://images.amazon.com/images/P/0195153448.0...</td>\n",
       "      <td>http://images.amazon.com/images/P/0195153448.0...</td>\n",
       "      <td>http://images.amazon.com/images/P/0195153448.0...</td>\n",
       "      <td>Provides an introduction to classical myths pl...</td>\n",
       "      <td>en</td>\n",
       "      <td>['Social Science']</td>\n",
       "      <td>stockton</td>\n",
       "      <td>california</td>\n",
       "      <td>usa</td>\n",
       "    </tr>\n",
       "    <tr>\n",
       "      <th>1</th>\n",
       "      <td>1</td>\n",
       "      <td>8</td>\n",
       "      <td>timmins, ontario, canada</td>\n",
       "      <td>34.74390</td>\n",
       "      <td>0002005018</td>\n",
       "      <td>5</td>\n",
       "      <td>Clara Callan</td>\n",
       "      <td>Richard Bruce Wright</td>\n",
       "      <td>2001.00000</td>\n",
       "      <td>HarperFlamingo Canada</td>\n",
       "      <td>http://images.amazon.com/images/P/0002005018.0...</td>\n",
       "      <td>http://images.amazon.com/images/P/0002005018.0...</td>\n",
       "      <td>http://images.amazon.com/images/P/0002005018.0...</td>\n",
       "      <td>In a small town in Canada, Clara Callan reluct...</td>\n",
       "      <td>en</td>\n",
       "      <td>['Actresses']</td>\n",
       "      <td>timmins</td>\n",
       "      <td>ontario</td>\n",
       "      <td>canada</td>\n",
       "    </tr>\n",
       "    <tr>\n",
       "      <th>2</th>\n",
       "      <td>2</td>\n",
       "      <td>11400</td>\n",
       "      <td>ottawa, ontario, canada</td>\n",
       "      <td>49.00000</td>\n",
       "      <td>0002005018</td>\n",
       "      <td>0</td>\n",
       "      <td>Clara Callan</td>\n",
       "      <td>Richard Bruce Wright</td>\n",
       "      <td>2001.00000</td>\n",
       "      <td>HarperFlamingo Canada</td>\n",
       "      <td>http://images.amazon.com/images/P/0002005018.0...</td>\n",
       "      <td>http://images.amazon.com/images/P/0002005018.0...</td>\n",
       "      <td>http://images.amazon.com/images/P/0002005018.0...</td>\n",
       "      <td>In a small town in Canada, Clara Callan reluct...</td>\n",
       "      <td>en</td>\n",
       "      <td>['Actresses']</td>\n",
       "      <td>ottawa</td>\n",
       "      <td>ontario</td>\n",
       "      <td>canada</td>\n",
       "    </tr>\n",
       "    <tr>\n",
       "      <th>3</th>\n",
       "      <td>3</td>\n",
       "      <td>11676</td>\n",
       "      <td>n/a, n/a, n/a</td>\n",
       "      <td>34.74390</td>\n",
       "      <td>0002005018</td>\n",
       "      <td>8</td>\n",
       "      <td>Clara Callan</td>\n",
       "      <td>Richard Bruce Wright</td>\n",
       "      <td>2001.00000</td>\n",
       "      <td>HarperFlamingo Canada</td>\n",
       "      <td>http://images.amazon.com/images/P/0002005018.0...</td>\n",
       "      <td>http://images.amazon.com/images/P/0002005018.0...</td>\n",
       "      <td>http://images.amazon.com/images/P/0002005018.0...</td>\n",
       "      <td>In a small town in Canada, Clara Callan reluct...</td>\n",
       "      <td>en</td>\n",
       "      <td>['Actresses']</td>\n",
       "      <td>NaN</td>\n",
       "      <td>NaN</td>\n",
       "      <td>NaN</td>\n",
       "    </tr>\n",
       "    <tr>\n",
       "      <th>4</th>\n",
       "      <td>4</td>\n",
       "      <td>41385</td>\n",
       "      <td>sudbury, ontario, canada</td>\n",
       "      <td>34.74390</td>\n",
       "      <td>0002005018</td>\n",
       "      <td>0</td>\n",
       "      <td>Clara Callan</td>\n",
       "      <td>Richard Bruce Wright</td>\n",
       "      <td>2001.00000</td>\n",
       "      <td>HarperFlamingo Canada</td>\n",
       "      <td>http://images.amazon.com/images/P/0002005018.0...</td>\n",
       "      <td>http://images.amazon.com/images/P/0002005018.0...</td>\n",
       "      <td>http://images.amazon.com/images/P/0002005018.0...</td>\n",
       "      <td>In a small town in Canada, Clara Callan reluct...</td>\n",
       "      <td>en</td>\n",
       "      <td>['Actresses']</td>\n",
       "      <td>sudbury</td>\n",
       "      <td>ontario</td>\n",
       "      <td>canada</td>\n",
       "    </tr>\n",
       "  </tbody>\n",
       "</table>\n",
       "</div>"
      ],
      "text/plain": [
       "   Unnamed: 0  user_id                   location      age        isbn  \\\n",
       "0           0        2  stockton, california, usa 18.00000  0195153448   \n",
       "1           1        8   timmins, ontario, canada 34.74390  0002005018   \n",
       "2           2    11400    ottawa, ontario, canada 49.00000  0002005018   \n",
       "3           3    11676              n/a, n/a, n/a 34.74390  0002005018   \n",
       "4           4    41385   sudbury, ontario, canada 34.74390  0002005018   \n",
       "\n",
       "   rating           book_title           book_author  year_of_publication  \\\n",
       "0       0  Classical Mythology    Mark P. O. Morford           2002.00000   \n",
       "1       5         Clara Callan  Richard Bruce Wright           2001.00000   \n",
       "2       0         Clara Callan  Richard Bruce Wright           2001.00000   \n",
       "3       8         Clara Callan  Richard Bruce Wright           2001.00000   \n",
       "4       0         Clara Callan  Richard Bruce Wright           2001.00000   \n",
       "\n",
       "                 publisher                                              img_s  \\\n",
       "0  Oxford University Press  http://images.amazon.com/images/P/0195153448.0...   \n",
       "1    HarperFlamingo Canada  http://images.amazon.com/images/P/0002005018.0...   \n",
       "2    HarperFlamingo Canada  http://images.amazon.com/images/P/0002005018.0...   \n",
       "3    HarperFlamingo Canada  http://images.amazon.com/images/P/0002005018.0...   \n",
       "4    HarperFlamingo Canada  http://images.amazon.com/images/P/0002005018.0...   \n",
       "\n",
       "                                               img_m  \\\n",
       "0  http://images.amazon.com/images/P/0195153448.0...   \n",
       "1  http://images.amazon.com/images/P/0002005018.0...   \n",
       "2  http://images.amazon.com/images/P/0002005018.0...   \n",
       "3  http://images.amazon.com/images/P/0002005018.0...   \n",
       "4  http://images.amazon.com/images/P/0002005018.0...   \n",
       "\n",
       "                                               img_l  \\\n",
       "0  http://images.amazon.com/images/P/0195153448.0...   \n",
       "1  http://images.amazon.com/images/P/0002005018.0...   \n",
       "2  http://images.amazon.com/images/P/0002005018.0...   \n",
       "3  http://images.amazon.com/images/P/0002005018.0...   \n",
       "4  http://images.amazon.com/images/P/0002005018.0...   \n",
       "\n",
       "                                             Summary Language  \\\n",
       "0  Provides an introduction to classical myths pl...       en   \n",
       "1  In a small town in Canada, Clara Callan reluct...       en   \n",
       "2  In a small town in Canada, Clara Callan reluct...       en   \n",
       "3  In a small town in Canada, Clara Callan reluct...       en   \n",
       "4  In a small town in Canada, Clara Callan reluct...       en   \n",
       "\n",
       "             Category      city       state country  \n",
       "0  ['Social Science']  stockton  california     usa  \n",
       "1       ['Actresses']   timmins     ontario  canada  \n",
       "2       ['Actresses']    ottawa     ontario  canada  \n",
       "3       ['Actresses']       NaN         NaN     NaN  \n",
       "4       ['Actresses']   sudbury     ontario  canada  "
      ]
     },
     "execution_count": 5,
     "metadata": {},
     "output_type": "execute_result"
    }
   ],
   "source": [
    "data.head()"
   ]
  },
  {
   "cell_type": "code",
   "execution_count": 6,
   "id": "ea851f35",
   "metadata": {},
   "outputs": [
    {
     "data": {
      "image/png": "[encoded data removed]",
      "text/plain": [
       "<Figure size 640x480 with 1 Axes>"
      ]
     },
     "metadata": {},
     "output_type": "display_data"
    }
   ],
   "source": [
    "import matplotlib.pyplot as plt\n",
    "\n",
    "plt.hist(data['rating'])\n",
    "plt.xlabel('Rating')\n",
    "plt.ylabel('Frequency')\n",
    "plt.title('Distribution of Ratings')\n",
    "plt.show()"
   ]
  },
  {
   "cell_type": "code",
   "execution_count": 7,
   "id": "2be277c5",
   "metadata": {},
   "outputs": [
    {
     "name": "stdout",
     "output_type": "stream",
     "text": [
      "Size of user_id column: 1031175\n",
      "Unique user IDs: [     2      8  11400 ... 278713 278714 278729]\n"
     ]
    }
   ],
   "source": [
    "# Check the size of the column\n",
    "column_size = len(data['user_id'])\n",
    "print(\"Size of user_id column:\", column_size)\n",
    "\n",
    "# Check the unique values in the column\n",
    "unique_values = data['user_id'].unique()\n",
    "print(\"Unique user IDs:\", unique_values)"
   ]
  },
  {
   "cell_type": "markdown",
   "id": "4009eb10",
   "metadata": {},
   "source": [
    "## Cleaning the Data"
   ]
  },
  {
   "cell_type": "code",
   "execution_count": 8,
   "id": "2e755e04",
   "metadata": {},
   "outputs": [
    {
     "name": "stdout",
     "output_type": "stream",
     "text": [
      "Duplicate ratings found by the same user for the following books:\n",
      "         user_id                                         book_title\n",
      "31         11676                             The Kitchen God's Wife\n",
      "33         36836                             The Kitchen God's Wife\n",
      "36         49635                             The Kitchen God's Wife\n",
      "39        113519                             The Kitchen God's Wife\n",
      "112        11676                                      The Testament\n",
      "...          ...                                                ...\n",
      "1030416   278418                                         Cinderella\n",
      "1030447   278418                                              Quest\n",
      "1030858   278418                                     Selected Poems\n",
      "1030879   278418  The Legend of Sleepy Hollow (A Troll First-Sta...\n",
      "1030946   278418                                         Thumbelina\n",
      "\n",
      "[9330 rows x 2 columns]\n"
     ]
    }
   ],
   "source": [
    "# Check for duplicate ratings by the same user for a book. Code from https://towardsdatascience.com/finding-and-removing-duplicate-rows-in-pandas-dataframe-c6117668631f#:~:text=To%20find%20duplicates%20on%20a,()%20method%20on%20the%20column.&text=The%20result%20is%20a%20boolean,identical%20to%20a%20previous%20one.\n",
    "duplicate_ratings = data[data.duplicated(subset=['user_id', 'book_title'], keep=False)]\n",
    "\n",
    "if len(duplicate_ratings) > 0:\n",
    "    print(\"Duplicate ratings found by the same user for the following books:\")\n",
    "    print(duplicate_ratings[['user_id', 'book_title']])\n",
    "else:\n",
    "    print(\"No duplicate ratings found.\")"
   ]
  },
  {
   "cell_type": "code",
   "execution_count": 9,
   "id": "0a3d42ed",
   "metadata": {},
   "outputs": [
    {
     "data": {
      "text/plain": [
       "(1021845, 19)"
      ]
     },
     "execution_count": 9,
     "metadata": {},
     "output_type": "execute_result"
    }
   ],
   "source": [
    "# removing both lines of the duplicates found \n",
    "\n",
    "new_data = data.drop_duplicates(subset=['user_id', 'book_title'], keep=False)\n",
    "\n",
    "new_data.shape"
   ]
  },
  {
   "cell_type": "code",
   "execution_count": 11,
   "id": "ac46846f",
   "metadata": {},
   "outputs": [],
   "source": [
    "#new_data.drop(index=new_data.loc[new_data['rating'] == 0].index, inplace=True)\n",
    "new_data_copy = new_data.copy()\n",
    "new_data_copy.drop(index=new_data_copy.loc[new_data_copy['rating'] == 0].index, inplace=True)\n",
    "new_data = new_data_copy"
   ]
  },
  {
   "cell_type": "code",
   "execution_count": 12,
   "id": "6b54ebfb",
   "metadata": {},
   "outputs": [],
   "source": [
    "new_data_copy = new_data.copy()\n",
    "new_data_copy.drop(index=new_data_copy.loc[new_data_copy['rating'] == 0].index, inplace=True)\n",
    "new_data = new_data_copy"
   ]
  },
  {
   "cell_type": "code",
   "execution_count": 13,
   "id": "34969589",
   "metadata": {},
   "outputs": [
    {
     "name": "stdout",
     "output_type": "stream",
     "text": [
      "There are no missing values in the 'book_title' column.\n",
      "There are no zeros in the 'book_title' column.\n"
     ]
    }
   ],
   "source": [
    "missing_values = new_data['book_title'].isnull().sum()\n",
    "zeros_count = (new_data['book_title'] == 0).sum()\n",
    "\n",
    "if missing_values > 0:\n",
    "    print(\"There are\", missing_values, \"missing values in the 'book_title' column.\")\n",
    "else:\n",
    "    print(\"There are no missing values in the 'book_title' column.\")\n",
    "\n",
    "if zeros_count > 0:\n",
    "    print(\"There are\", zeros_count, \"zeros in the 'book_title' column.\")\n",
    "else:\n",
    "    print(\"There are no zeros in the 'book_title' column.\")"
   ]
  },
  {
   "cell_type": "code",
   "execution_count": 14,
   "id": "9128adbe",
   "metadata": {},
   "outputs": [],
   "source": [
    "new_data = new_data[new_data['book_title'].apply(lambda x: all(char.isalpha() or char.isspace() for char in x))]\n",
    "new_data.reset_index(drop=True, inplace=True)"
   ]
  },
  {
   "cell_type": "code",
   "execution_count": 15,
   "id": "2bf180c3",
   "metadata": {},
   "outputs": [
    {
     "data": {
      "text/plain": [
       "(168979, 19)"
      ]
     },
     "execution_count": 15,
     "metadata": {},
     "output_type": "execute_result"
    }
   ],
   "source": [
    "new_data.shape"
   ]
  },
  {
   "cell_type": "markdown",
   "id": "dd964646",
   "metadata": {},
   "source": [
    "## Understanding the Ratings"
   ]
  },
  {
   "cell_type": "code",
   "execution_count": 16,
   "id": "f24d0662",
   "metadata": {},
   "outputs": [
    {
     "name": "stdout",
     "output_type": "stream",
     "text": [
      "                           book_title  num_ratings\n",
      "0                        Dark Justice            1\n",
      "1                  Weird News Stories            1\n",
      "2       the Devil Will Drag You Under            1\n",
      "3                       A B C MURDERS            3\n",
      "4           A Baby Sister for Frances            1\n",
      "...                               ...          ...\n",
      "46619                        stardust           26\n",
      "46620            the Dark Light Years            2\n",
      "46621           together by christmas            4\n",
      "46622                 touch the flame            1\n",
      "46623                    waking blood            1\n",
      "\n",
      "[46624 rows x 2 columns]\n",
      "                           book_title  avg_ratings\n",
      "0                        Dark Justice     10.00000\n",
      "1                  Weird News Stories      5.00000\n",
      "2       the Devil Will Drag You Under      8.00000\n",
      "3                       A B C MURDERS      8.00000\n",
      "4           A Baby Sister for Frances      8.00000\n",
      "...                               ...          ...\n",
      "46619                        stardust      8.11538\n",
      "46620            the Dark Light Years      8.00000\n",
      "46621           together by christmas      7.00000\n",
      "46622                 touch the flame     10.00000\n",
      "46623                    waking blood      6.00000\n",
      "\n",
      "[46624 rows x 2 columns]\n"
     ]
    }
   ],
   "source": [
    "# Calculate num_ratings\n",
    "num_rating = new_data.groupby('book_title')['rating'].count().reset_index()\n",
    "num_rating.rename(columns={'rating': 'num_ratings'}, inplace=True)\n",
    "print(num_rating)\n",
    "\n",
    "# Calculate avg_ratings\n",
    "avg_rating = new_data.groupby('book_title')['rating'].mean(numeric_only=True).reset_index()\n",
    "avg_rating.rename(columns={'rating': 'avg_ratings'}, inplace=True)\n",
    "print(avg_rating)"
   ]
  },
  {
   "cell_type": "code",
   "execution_count": 17,
   "id": "fae2d1e7",
   "metadata": {},
   "outputs": [
    {
     "name": "stdout",
     "output_type": "stream",
     "text": [
      "Average number of ratings: 3.6242922100205903\n"
     ]
    }
   ],
   "source": [
    "avg_num_ratings = num_rating['num_ratings'].mean()\n",
    "print(\"Average number of ratings:\", avg_num_ratings)"
   ]
  },
  {
   "cell_type": "code",
   "execution_count": 18,
   "id": "2efac6d5",
   "metadata": {},
   "outputs": [
    {
     "name": "stdout",
     "output_type": "stream",
     "text": [
      "Number of books with an average rating of 10: 5479\n"
     ]
    }
   ],
   "source": [
    "# Sort the average rating dataframe in descending order\n",
    "sorted_avg_rating = avg_rating.sort_values('avg_ratings', ascending=False)\n",
    "\n",
    "num_unique_books = new_data['book_title'].nunique()\n",
    "\n",
    "num_books_with_rating_10 = avg_rating[avg_rating['avg_ratings'] == 10]['book_title'].count()\n",
    "print(\"Number of books with an average rating of 10:\", num_books_with_rating_10)"
   ]
  },
  {
   "cell_type": "code",
   "execution_count": 19,
   "id": "5cd4aeba",
   "metadata": {},
   "outputs": [
    {
     "data": {
      "image/png": "[encoded data removed]",
      "text/plain": [
       "<Figure size 800x600 with 1 Axes>"
      ]
     },
     "metadata": {},
     "output_type": "display_data"
    }
   ],
   "source": [
    "import matplotlib.pyplot as plt\n",
    "\n",
    "# Plot the distribution of average ratings\n",
    "plt.figure(figsize=(8, 6))\n",
    "plt.hist(avg_rating['avg_ratings'], bins=20, edgecolor='black')\n",
    "plt.xlabel('Average Rating')\n",
    "plt.ylabel('Frequency')\n",
    "plt.title('Distribution of Average Ratings')\n",
    "plt.show()"
   ]
  },
  {
   "cell_type": "code",
   "execution_count": 20,
   "id": "b787a6e2",
   "metadata": {},
   "outputs": [
    {
     "name": "stdout",
     "output_type": "stream",
     "text": [
      "Number of books with average rating between 0 and 1: 126\n"
     ]
    }
   ],
   "source": [
    "num_books_0_to_1 = len(avg_rating[(avg_rating['avg_ratings'] >= 0) & (avg_rating['avg_ratings'] <= 1)])\n",
    "print(\"Number of books with average rating between 0 and 1:\", num_books_0_to_1)"
   ]
  },
  {
   "cell_type": "code",
   "execution_count": 21,
   "id": "30577427",
   "metadata": {},
   "outputs": [
    {
     "name": "stdout",
     "output_type": "stream",
     "text": [
      "No books with a rating of 0 found.\n"
     ]
    }
   ],
   "source": [
    "if 0 in new_data['rating'].values:\n",
    "    zero_ratings_count = new_data['rating'].value_counts()[0]\n",
    "    print(\"Number of books with a rating of 0:\", zero_ratings_count)\n",
    "else:\n",
    "    print(\"No books with a rating of 0 found.\")"
   ]
  },
  {
   "cell_type": "code",
   "execution_count": 22,
   "id": "3a63df54",
   "metadata": {},
   "outputs": [
    {
     "name": "stdout",
     "output_type": "stream",
     "text": [
      "Size of user_id column: 168979\n",
      "Unique user IDs: [    0     1     2 ... 43130 43131 43132]\n"
     ]
    }
   ],
   "source": [
    "new_data = new_data.copy()\n",
    "new_data.loc[:, 'book_id'] = pd.factorize(new_data['book_title'])[0]\n",
    "\n",
    "\n",
    "new_data['user_id'] = pd.factorize(new_data['user_id'])[0]\n",
    "\n",
    "\n",
    "print(\"Size of user_id column:\", len(new_data['user_id']))\n",
    "print(\"Unique user IDs:\", new_data['user_id'].unique())"
   ]
  },
  {
   "cell_type": "code",
   "execution_count": 23,
   "id": "f85271c4",
   "metadata": {},
   "outputs": [
    {
     "data": {
      "text/plain": [
       "<bound method NDFrame.head of         Unnamed: 0  user_id                      location      age  \\\n",
       "0                1        0      timmins, ontario, canada 34.74390   \n",
       "1                3        1                 n/a, n/a, n/a 34.74390   \n",
       "2                5        2      toronto, ontario, canada 30.00000   \n",
       "3                8        3                     ottawa, , 34.74390   \n",
       "4                9        4     kingston, ontario, canada 34.74390   \n",
       "...            ...      ...                           ...      ...   \n",
       "168974     1031128    43130           wien, wien, austria 37.00000   \n",
       "168975     1031148    26603        las vegas, nevada, usa 34.74390   \n",
       "168976     1031149    43131    vancouver, washington, usa 33.00000   \n",
       "168977     1031150    30625         madrid, madrid, spain 48.00000   \n",
       "168978     1031151    43132  albuquerque, new mexico, usa 63.00000   \n",
       "\n",
       "              isbn  rating                          book_title  \\\n",
       "0       0002005018       5                        Clara Callan   \n",
       "1       0002005018       8                        Clara Callan   \n",
       "2       0002005018       8                        Clara Callan   \n",
       "3       0002005018       9                        Clara Callan   \n",
       "4       0002005018       9                        Clara Callan   \n",
       "...            ...     ...                                 ...   \n",
       "168974  185813501X      10  The Life and Works of Gustav Klimt   \n",
       "168975  0449225208       5                The Christmas Spirit   \n",
       "168976  0345330293      10                     Town Like Alice   \n",
       "168977  8408044079       5                LA Muerte Del Decano   \n",
       "168978  0670528951       8                        Orson Welles   \n",
       "\n",
       "                        book_author  year_of_publication  \\\n",
       "0              Richard Bruce Wright           2001.00000   \n",
       "1              Richard Bruce Wright           2001.00000   \n",
       "2              Richard Bruce Wright           2001.00000   \n",
       "3              Richard Bruce Wright           2001.00000   \n",
       "4              Richard Bruce Wright           2001.00000   \n",
       "...                             ...                  ...   \n",
       "168974             Nathaniel Harris           1994.00000   \n",
       "168975                Patricia Wynn           1996.00000   \n",
       "168976                  Nevil Shute           1981.00000   \n",
       "168977  Gonzalo Torrrente Ballester           2002.00000   \n",
       "168978              Barbara Leaming           1985.00000   \n",
       "\n",
       "                             publisher  \\\n",
       "0                HarperFlamingo Canada   \n",
       "1                HarperFlamingo Canada   \n",
       "2                HarperFlamingo Canada   \n",
       "3                HarperFlamingo Canada   \n",
       "4                HarperFlamingo Canada   \n",
       "...                                ...   \n",
       "168974             Parragon Publishing   \n",
       "168975                       Ivy Books   \n",
       "168976                Ballantine Books   \n",
       "168977  Planeta Publishing Corporation   \n",
       "168978                     Penguin USA   \n",
       "\n",
       "                                                    img_s  \\\n",
       "0       http://images.amazon.com/images/P/0002005018.0...   \n",
       "1       http://images.amazon.com/images/P/0002005018.0...   \n",
       "2       http://images.amazon.com/images/P/0002005018.0...   \n",
       "3       http://images.amazon.com/images/P/0002005018.0...   \n",
       "4       http://images.amazon.com/images/P/0002005018.0...   \n",
       "...                                                   ...   \n",
       "168974  http://images.amazon.com/images/P/185813501X.0...   \n",
       "168975  http://images.amazon.com/images/P/0449225208.0...   \n",
       "168976  http://images.amazon.com/images/P/0345330293.0...   \n",
       "168977  http://images.amazon.com/images/P/8408044079.0...   \n",
       "168978  http://images.amazon.com/images/P/0670528951.0...   \n",
       "\n",
       "                                                    img_m  \\\n",
       "0       http://images.amazon.com/images/P/0002005018.0...   \n",
       "1       http://images.amazon.com/images/P/0002005018.0...   \n",
       "2       http://images.amazon.com/images/P/0002005018.0...   \n",
       "3       http://images.amazon.com/images/P/0002005018.0...   \n",
       "4       http://images.amazon.com/images/P/0002005018.0...   \n",
       "...                                                   ...   \n",
       "168974  http://images.amazon.com/images/P/185813501X.0...   \n",
       "168975  http://images.amazon.com/images/P/0449225208.0...   \n",
       "168976  http://images.amazon.com/images/P/0345330293.0...   \n",
       "168977  http://images.amazon.com/images/P/8408044079.0...   \n",
       "168978  http://images.amazon.com/images/P/0670528951.0...   \n",
       "\n",
       "                                                    img_l  \\\n",
       "0       http://images.amazon.com/images/P/0002005018.0...   \n",
       "1       http://images.amazon.com/images/P/0002005018.0...   \n",
       "2       http://images.amazon.com/images/P/0002005018.0...   \n",
       "3       http://images.amazon.com/images/P/0002005018.0...   \n",
       "4       http://images.amazon.com/images/P/0002005018.0...   \n",
       "...                                                   ...   \n",
       "168974  http://images.amazon.com/images/P/185813501X.0...   \n",
       "168975  http://images.amazon.com/images/P/0449225208.0...   \n",
       "168976  http://images.amazon.com/images/P/0345330293.0...   \n",
       "168977  http://images.amazon.com/images/P/8408044079.0...   \n",
       "168978  http://images.amazon.com/images/P/0670528951.0...   \n",
       "\n",
       "                                                  Summary Language  \\\n",
       "0       In a small town in Canada, Clara Callan reluct...       en   \n",
       "1       In a small town in Canada, Clara Callan reluct...       en   \n",
       "2       In a small town in Canada, Clara Callan reluct...       en   \n",
       "3       In a small town in Canada, Clara Callan reluct...       en   \n",
       "4       In a small town in Canada, Clara Callan reluct...       en   \n",
       "...                                                   ...      ...   \n",
       "168974                                                  9        9   \n",
       "168975  Taking human form as part of a wager, mischiev...       en   \n",
       "168976                                                  9        9   \n",
       "168977                                                  9        9   \n",
       "168978  Based on two years of interviews and research,...       en   \n",
       "\n",
       "                             Category         city       state  country  \\\n",
       "0                       ['Actresses']      timmins     ontario   canada   \n",
       "1                       ['Actresses']          NaN         NaN      NaN   \n",
       "2                       ['Actresses']      toronto     ontario   canada   \n",
       "3                       ['Actresses']       ottawa           ,      NaN   \n",
       "4                       ['Actresses']     kingston     ontario   canada   \n",
       "...                               ...          ...         ...      ...   \n",
       "168974                              9         wien        wien  austria   \n",
       "168975                    ['Fiction']    las vegas      nevada      usa   \n",
       "168976                              9    vancouver  washington      usa   \n",
       "168977                              9       madrid      madrid    spain   \n",
       "168978  ['Biography & Autobiography']  albuquerque  new mexico      usa   \n",
       "\n",
       "        book_id  \n",
       "0             0  \n",
       "1             0  \n",
       "2             0  \n",
       "3             0  \n",
       "4             0  \n",
       "...         ...  \n",
       "168974    46621  \n",
       "168975    46622  \n",
       "168976     2905  \n",
       "168977     6445  \n",
       "168978    46623  \n",
       "\n",
       "[168979 rows x 20 columns]>"
      ]
     },
     "execution_count": 23,
     "metadata": {},
     "output_type": "execute_result"
    }
   ],
   "source": [
    "new_data.shape\n",
    "new_data.head"
   ]
  },
  {
   "cell_type": "code",
   "execution_count": 24,
   "id": "7e60e41c",
   "metadata": {},
   "outputs": [],
   "source": [
    "new_data = new_data[new_data['book_id'] != 0]"
   ]
  },
  {
   "cell_type": "code",
   "execution_count": 25,
   "id": "e1d4da87",
   "metadata": {},
   "outputs": [],
   "source": [
    "#droping the column that will not be needed\n",
    "df=new_data.drop(['Unnamed: 0','location','isbn','img_s','img_m','img_l','Summary','city','state'],axis=1)"
   ]
  },
  {
   "cell_type": "code",
   "execution_count": 26,
   "id": "37dd2b85",
   "metadata": {},
   "outputs": [
    {
     "data": {
      "text/plain": [
       "<bound method NDFrame.head of         user_id      age  rating                          book_title  \\\n",
       "9             9 71.00000       8                Decision in Normandy   \n",
       "10           10 40.00000       7                Decision in Normandy   \n",
       "11            1 34.74390       8                     PLEADING GUILTY   \n",
       "12           11 34.74390       6         Nights Below Station Street   \n",
       "13            0 34.74390       5                  The Middle Stories   \n",
       "...         ...      ...     ...                                 ...   \n",
       "168974    43130 37.00000      10  The Life and Works of Gustav Klimt   \n",
       "168975    26603 34.74390       5                The Christmas Spirit   \n",
       "168976    43131 33.00000      10                     Town Like Alice   \n",
       "168977    30625 48.00000       5                LA Muerte Del Decano   \n",
       "168978    43132 63.00000       8                        Orson Welles   \n",
       "\n",
       "                        book_author  year_of_publication  \\\n",
       "9                      Carlo D'Este           1991.00000   \n",
       "10                     Carlo D'Este           1991.00000   \n",
       "11                      Scott Turow           1993.00000   \n",
       "12             David Adams Richards           1988.00000   \n",
       "13                      Sheila Heti           2004.00000   \n",
       "...                             ...                  ...   \n",
       "168974             Nathaniel Harris           1994.00000   \n",
       "168975                Patricia Wynn           1996.00000   \n",
       "168976                  Nevil Shute           1981.00000   \n",
       "168977  Gonzalo Torrrente Ballester           2002.00000   \n",
       "168978              Barbara Leaming           1985.00000   \n",
       "\n",
       "                             publisher Language  \\\n",
       "9                      HarperPerennial       en   \n",
       "10                     HarperPerennial       en   \n",
       "11                          Audioworks        9   \n",
       "12                     Emblem Editions       en   \n",
       "13               House of Anansi Press        9   \n",
       "...                                ...      ...   \n",
       "168974             Parragon Publishing        9   \n",
       "168975                       Ivy Books       en   \n",
       "168976                Ballantine Books        9   \n",
       "168977  Planeta Publishing Corporation        9   \n",
       "168978                     Penguin USA       en   \n",
       "\n",
       "                             Category      country  book_id  \n",
       "9                       ['1940-1949']          usa        1  \n",
       "10                      ['1940-1949']       canada        1  \n",
       "11                                  9          NaN        2  \n",
       "12                        ['Fiction']  new zealand        3  \n",
       "13                                  9       canada        4  \n",
       "...                               ...          ...      ...  \n",
       "168974                              9      austria    46621  \n",
       "168975                    ['Fiction']          usa    46622  \n",
       "168976                              9          usa     2905  \n",
       "168977                              9        spain     6445  \n",
       "168978  ['Biography & Autobiography']          usa    46623  \n",
       "\n",
       "[168970 rows x 11 columns]>"
      ]
     },
     "execution_count": 26,
     "metadata": {},
     "output_type": "execute_result"
    }
   ],
   "source": [
    "df.head"
   ]
  },
  {
   "cell_type": "code",
   "execution_count": 27,
   "id": "d2474c1c",
   "metadata": {},
   "outputs": [
    {
     "name": "stdout",
     "output_type": "stream",
     "text": [
      "Size of user_id column: 168970\n",
      "Unique user IDs: [    9    10     1 ... 43130 43131 43132]\n"
     ]
    }
   ],
   "source": [
    "# Check the size of the column\n",
    "column_size = len(df['user_id'])\n",
    "print(\"Size of user_id column:\", column_size)\n",
    "\n",
    "# Check the unique values in the column\n",
    "unique_values = df['user_id'].unique()\n",
    "print(\"Unique user IDs:\", unique_values)"
   ]
  },
  {
   "cell_type": "code",
   "execution_count": 28,
   "id": "d8f638b8",
   "metadata": {},
   "outputs": [
    {
     "data": {
      "image/png": "[encoded data removed]",
      "text/plain": [
       "<Figure size 640x480 with 1 Axes>"
      ]
     },
     "metadata": {},
     "output_type": "display_data"
    }
   ],
   "source": [
    "# Plotting historigram\n",
    "plt.hist(df['rating'])\n",
    "plt.xlabel('Rating')\n",
    "plt.ylabel('Frequency')\n",
    "plt.title('Distribution of Ratings')\n",
    "plt.show()"
   ]
  },
  {
   "cell_type": "markdown",
   "id": "cff56fb3",
   "metadata": {},
   "source": [
    "## Preparing for the model"
   ]
  },
  {
   "cell_type": "markdown",
   "id": "1164ad61",
   "metadata": {},
   "source": [
    "code from https://keras.io/examples/structured_data/collaborative_filtering_movielens/"
   ]
  },
  {
   "cell_type": "code",
   "execution_count": 29,
   "id": "04b3b62a",
   "metadata": {},
   "outputs": [
    {
     "name": "stderr",
     "output_type": "stream",
     "text": [
      "2023-06-28 12:09:00.836175: I tensorflow/core/platform/cpu_feature_guard.cc:182] This TensorFlow binary is optimized to use available CPU instructions in performance-critical operations.\n",
      "To enable the following instructions: AVX2 FMA, in other operations, rebuild TensorFlow with the appropriate compiler flags.\n"
     ]
    }
   ],
   "source": [
    "import pandas as pd\n",
    "from keras.layers import Input, Embedding, Flatten, Dense, Concatenate\n",
    "from keras.models import Model\n",
    "from keras.optimizers import Adam\n",
    "from sklearn.model_selection import train_test_split\n",
    "import numpy as np\n",
    "from zipfile import ZipFile\n",
    "import tensorflow as tf\n",
    "from tensorflow import keras\n",
    "from tensorflow.keras import layers\n",
    "from pathlib import Path"
   ]
  },
  {
   "cell_type": "code",
   "execution_count": 30,
   "id": "5ef5a9dd",
   "metadata": {},
   "outputs": [],
   "source": [
    "# Creating smaller subset of the bigger one for computation\n",
    "user_ids_subset = df['user_id'].unique()[:5000]\n",
    "df_subset = df[df['user_id'].isin(user_ids_subset)]"
   ]
  },
  {
   "cell_type": "code",
   "execution_count": 31,
   "id": "d6bd6482",
   "metadata": {},
   "outputs": [
    {
     "data": {
      "text/plain": [
       "(69772, 11)"
      ]
     },
     "execution_count": 31,
     "metadata": {},
     "output_type": "execute_result"
    }
   ],
   "source": [
    "df_subset.shape"
   ]
  },
  {
   "cell_type": "code",
   "execution_count": 32,
   "id": "42cecf2b",
   "metadata": {},
   "outputs": [],
   "source": [
    "df_subset[\"rating\"].describe()\n",
    "\n",
    "from sklearn.preprocessing import MinMaxScaler"
   ]
  },
  {
   "cell_type": "code",
   "execution_count": 33,
   "id": "8b7ec4e9",
   "metadata": {},
   "outputs": [],
   "source": [
    "df_subset = df_subset.copy()\n",
    "df_subset.loc[:, \"rating\"] = MinMaxScaler().fit_transform(df_subset[\"rating\"].values.reshape(-1, 1))"
   ]
  },
  {
   "cell_type": "code",
   "execution_count": 34,
   "id": "080c82e3",
   "metadata": {},
   "outputs": [
    {
     "name": "stdout",
     "output_type": "stream",
     "text": [
      "Number of users: 5000, Number of books: 24955, Min rating: 0.0, Max rating: 1.0\n"
     ]
    },
    {
     "name": "stderr",
     "output_type": "stream",
     "text": [
      "/var/folders/dc/jjj3rhz5677f3g14zjfccdr80000gn/T/ipykernel_45710/2131395114.py:11: DeprecationWarning: In a future version, `df.iloc[:, i] = newvals` will attempt to set the values inplace instead of always setting a new array. To retain the old behavior, use either `df[df.columns[i]] = newvals` or, if columns are non-unique, `df.isetitem(i, newvals)`\n",
      "  df_subset.loc[:, \"rating\"] = df_subset[\"rating\"].values.astype(np.float32)\n"
     ]
    }
   ],
   "source": [
    "user_ids = df_subset[\"user_id\"].unique().tolist()\n",
    "user2user_encoded = {x: i for i, x in enumerate(user_ids)}\n",
    "userencoded2user = {i: x for i, x in enumerate(user_ids)}\n",
    "book_ids = df_subset[\"book_id\"].unique().tolist()\n",
    "book2book_encoded = {x: i for i, x in enumerate(book_ids)}\n",
    "book_encoded2book = {i: x for i, x in enumerate(book_ids)}\n",
    "\n",
    "\n",
    "df_subset.loc[:, \"user\"] = df_subset[\"user_id\"].map(user2user_encoded)\n",
    "df_subset.loc[:, \"book\"] = df_subset[\"book_id\"].map(book2book_encoded)\n",
    "df_subset.loc[:, \"rating\"] = df_subset[\"rating\"].values.astype(np.float32)\n",
    "\n",
    "\n",
    "num_users = len(user2user_encoded)\n",
    "num_books = len(book_encoded2book)\n",
    "df_subset.loc[:, \"rating\"] = df_subset[\"rating\"].values.astype(np.float32)\n",
    "# df_subset[\"rating\"] = df_subset[\"rating\"].values.astype(np.float32)\n",
    "min_rating = min(df_subset[\"rating\"])\n",
    "max_rating = max(df_subset[\"rating\"])\n",
    "\n",
    "print(\n",
    "    \"Number of users: {}, Number of books: {}, Min rating: {}, Max rating: {}\".format(\n",
    "        num_users, num_books, min_rating, max_rating\n",
    "    )\n",
    ")"
   ]
  },
  {
   "cell_type": "code",
   "execution_count": 35,
   "id": "6fba74a0",
   "metadata": {},
   "outputs": [],
   "source": [
    "# Prepare training and validation data\n",
    "\n",
    "df_subset = df_subset.sample(frac=1, random_state=42)\n",
    "x = df_subset[[\"user\", \"book\"]].values\n",
    "y = df_subset[\"rating\"].apply(lambda x: (x - min_rating) / (max_rating - min_rating)).values\n",
    "\n",
    "# Changing the percentage of training data to 75% \n",
    "train_indices = int(0.75 * df_subset.shape[0])\n",
    "x_train, x_val, y_train, y_val = (\n",
    "    x[:train_indices],\n",
    "    x[train_indices:],\n",
    "    y[:train_indices],\n",
    "    y[train_indices:],\n",
    ")"
   ]
  },
  {
   "cell_type": "code",
   "execution_count": 36,
   "id": "564580d0",
   "metadata": {},
   "outputs": [
    {
     "name": "stdout",
     "output_type": "stream",
     "text": [
      "Training data shapes:\n",
      "x_train shape: (52329, 2)\n",
      "y_train shape: (52329,)\n",
      "\n",
      "Validation data shapes:\n",
      "x_val shape: (17443, 2)\n",
      "y_val shape: (17443,)\n"
     ]
    }
   ],
   "source": [
    "# Print the shapes of training data\n",
    "print(\"Training data shapes:\")\n",
    "print(\"x_train shape:\", x_train.shape)\n",
    "print(\"y_train shape:\", y_train.shape)\n",
    "\n",
    "# Print the shapes of validation data\n",
    "print(\"\\nValidation data shapes:\")\n",
    "print(\"x_val shape:\", x_val.shape)\n",
    "print(\"y_val shape:\", y_val.shape)"
   ]
  },
  {
   "cell_type": "code",
   "execution_count": 37,
   "id": "a7b6cb76",
   "metadata": {},
   "outputs": [],
   "source": [
    "# Main code from  https://keras.io/examples/structured_data/collaborative_filtering_movielens/\n",
    "\n",
    "from tensorflow.keras.losses import MeanSquaredError, MeanAbsoluteError\n",
    "from tensorflow.keras.optimizers import SGD\n",
    "\n",
    "EMBEDDING_SIZE = 80\n",
    "\n",
    "class RecommenderNet(keras.Model):\n",
    "    def __init__(self, num_users, num_books, embedding_size, regularization_weight, **kwargs):\n",
    "        super(RecommenderNet, self).__init__(**kwargs)\n",
    "        self.num_users = num_users\n",
    "        self.num_books = num_books\n",
    "        self.embedding_size = embedding_size\n",
    "        self.regularization_weight = regularization_weight\n",
    "        self.user_embedding = layers.Embedding(\n",
    "            num_users,\n",
    "            embedding_size,\n",
    "            embeddings_initializer=\"he_normal\",\n",
    "            embeddings_regularizer=keras.regularizers.l2(self.regularization_weight),\n",
    "        )\n",
    "        self.user_bias = layers.Embedding(num_users, 1)\n",
    "        self.book_embedding = layers.Embedding(\n",
    "            num_books,\n",
    "            embedding_size,\n",
    "            embeddings_initializer=\"he_normal\",\n",
    "            embeddings_regularizer=keras.regularizers.l2(self.regularization_weight),\n",
    "        )\n",
    "        self.book_bias = layers.Embedding(num_books, 1)\n",
    "\n",
    "    def call(self, inputs):\n",
    "        user_vector = self.user_embedding(inputs[:, 0])\n",
    "        user_bias = self.user_bias(inputs[:, 0])\n",
    "        book_vector = self.book_embedding(inputs[:, 1])\n",
    "        book_bias = self.book_bias(inputs[:, 1])\n",
    "        dot_user_book = tf.tensordot(user_vector, book_vector, 2)\n",
    "        x = dot_user_book + user_bias + book_bias\n",
    "        return tf.nn.sigmoid(x)\n",
    "\n",
    "\n",
    "regularization_weight = 0.1\n",
    "model = RecommenderNet(num_users, num_books, EMBEDDING_SIZE, regularization_weight)\n",
    "\n",
    "\n",
    "model.compile(loss=MeanSquaredError(), optimizer=SGD(learning_rate=0.001))"
   ]
  },
  {
   "cell_type": "code",
   "execution_count": 38,
   "id": "dd341ce4",
   "metadata": {},
   "outputs": [
    {
     "name": "stdout",
     "output_type": "stream",
     "text": [
      "Epoch 1/20\n",
      "818/818 [==============================] - 16s 19ms/step - loss: 27.4019 - val_loss: 23.1706\n",
      "Epoch 2/20\n",
      "818/818 [==============================] - 15s 19ms/step - loss: 19.7822 - val_loss: 16.7315\n",
      "Epoch 3/20\n",
      "818/818 [==============================] - 15s 19ms/step - loss: 14.2891 - val_loss: 12.0894\n",
      "Epoch 4/20\n",
      "818/818 [==============================] - 15s 19ms/step - loss: 10.3290 - val_loss: 8.7428\n",
      "Epoch 5/20\n",
      "818/818 [==============================] - 15s 19ms/step - loss: 7.4741 - val_loss: 6.3302\n",
      "Epoch 6/20\n",
      "818/818 [==============================] - 15s 19ms/step - loss: 5.4159 - val_loss: 4.5909\n",
      "Epoch 7/20\n",
      "818/818 [==============================] - 16s 19ms/step - loss: 3.9321 - val_loss: 3.3370\n",
      "Epoch 8/20\n",
      "818/818 [==============================] - 15s 19ms/step - loss: 2.8624 - val_loss: 2.4330\n",
      "Epoch 9/20\n",
      "818/818 [==============================] - 16s 19ms/step - loss: 2.0912 - val_loss: 1.7812\n",
      "Epoch 10/20\n",
      "818/818 [==============================] - 15s 19ms/step - loss: 1.5352 - val_loss: 1.3114\n",
      "Epoch 11/20\n",
      "818/818 [==============================] - 16s 19ms/step - loss: 1.1344 - val_loss: 0.9726\n",
      "Epoch 12/20\n",
      "818/818 [==============================] - 16s 19ms/step - loss: 0.8454 - val_loss: 0.7284\n",
      "Epoch 13/20\n",
      "818/818 [==============================] - 16s 19ms/step - loss: 0.6370 - val_loss: 0.5523\n",
      "Epoch 14/20\n",
      "818/818 [==============================] - 16s 20ms/step - loss: 0.4868 - val_loss: 0.4254\n",
      "Epoch 15/20\n",
      "818/818 [==============================] - 19s 24ms/step - loss: 0.3785 - val_loss: 0.3338\n",
      "Epoch 16/20\n",
      "818/818 [==============================] - 17s 20ms/step - loss: 0.3004 - val_loss: 0.2678\n",
      "Epoch 17/20\n",
      "818/818 [==============================] - 17s 20ms/step - loss: 0.2440 - val_loss: 0.2202\n",
      "Epoch 18/20\n",
      "818/818 [==============================] - 16s 20ms/step - loss: 0.2034 - val_loss: 0.1859\n",
      "Epoch 19/20\n",
      "818/818 [==============================] - 14s 17ms/step - loss: 0.1741 - val_loss: 0.1611\n",
      "Epoch 20/20\n",
      "818/818 [==============================] - 13s 16ms/step - loss: 0.1530 - val_loss: 0.1432\n"
     ]
    },
    {
     "data": {
      "image/png": "[encoded data removed]",
      "text/plain": [
       "<Figure size 640x480 with 1 Axes>"
      ]
     },
     "metadata": {},
     "output_type": "display_data"
    }
   ],
   "source": [
    "# Train the model based on the data split\n",
    "\n",
    "history = model.fit(\n",
    "    x=x_train,\n",
    "    y=y_train,\n",
    "    batch_size=64,\n",
    "    epochs=20,\n",
    "    verbose=1,\n",
    "    validation_data=(x_val, y_val),\n",
    ")\n",
    "\n",
    "\n",
    "# Plot training and validation loss\n",
    "\n",
    "plt.plot(history.history[\"loss\"])\n",
    "plt.plot(history.history[\"val_loss\"])\n",
    "plt.title(\"model loss\")\n",
    "plt.ylabel(\"loss\")\n",
    "plt.xlabel(\"epoch\")\n",
    "plt.legend([\"train\", \"test\"], loc=\"upper left\")\n",
    "plt.show()"
   ]
  },
  {
   "cell_type": "markdown",
   "id": "725b3d40",
   "metadata": {},
   "source": [
    "## Calculating Score"
   ]
  },
  {
   "cell_type": "code",
   "execution_count": 39,
   "id": "ec95a9ba",
   "metadata": {},
   "outputs": [
    {
     "name": "stdout",
     "output_type": "stream",
     "text": [
      "Test loss: 0.14319711923599243\n"
     ]
    }
   ],
   "source": [
    "# Evaluate the model on the test data. Code from https://www.projectpro.io/recipes/make-predictions-keras-model#mcetoc_1g21q2u52e\n",
    "score = model.evaluate(x=x_val, y=y_val, verbose=0)\n",
    "print('Test loss:', score)\n"
   ]
  },
  {
   "cell_type": "markdown",
   "id": "417c5cc7",
   "metadata": {},
   "source": [
    "## Calculating Diversity "
   ]
  },
  {
   "cell_type": "code",
   "execution_count": 40,
   "id": "7f69a832",
   "metadata": {},
   "outputs": [],
   "source": [
    "import numpy as np\n",
    "from sklearn.metrics.pairwise import cosine_similarity\n",
    "\n",
    "# Code from Assignment 2 \n"
   ]
  },
  {
   "cell_type": "code",
   "execution_count": 41,
   "id": "21f78a72",
   "metadata": {},
   "outputs": [
    {
     "name": "stdout",
     "output_type": "stream",
     "text": [
      "Average Diversity: 1.0\n"
     ]
    }
   ],
   "source": [
    "# Get the embeddings for books\n",
    "book_embeddings = model.book_embedding.get_weights()[0]\n",
    "\n",
    "# Calculate the pairwise cosine similarity between book embeddings\n",
    "book_similarities = cosine_similarity(book_embeddings)\n",
    "\n",
    "# Calculate diversity for each user\n",
    "diversities = []\n",
    "for user_id in user_ids:\n",
    "    user_books = df_subset[df_subset[\"user_id\"] == user_id][\"book\"].values\n",
    "    user_similarities = book_similarities[user_books]\n",
    "    diversity = np.mean(np.max(user_similarities, axis=1))\n",
    "    diversities.append(diversity)\n",
    "\n",
    "# Calculate the average diversity across all users\n",
    "average_diversity = np.mean(diversities)\n",
    "\n",
    "# Print the average diversity\n",
    "print(\"Average Diversity: {}\".format(average_diversity))"
   ]
  },
  {
   "cell_type": "markdown",
   "id": "ed23cd1d",
   "metadata": {},
   "source": [
    "## Calculating Catalog Coverage"
   ]
  },
  {
   "cell_type": "code",
   "execution_count": 42,
   "id": "0d0d5c48",
   "metadata": {},
   "outputs": [
    {
     "name": "stdout",
     "output_type": "stream",
     "text": [
      "546/546 [==============================] - 1s 2ms/step\n",
      "Catalog Coverage: 69.02%\n"
     ]
    }
   ],
   "source": [
    "# code from https://grabngoinfo.com/the-ultimate-guide-to-evaluating-your-recommendation-system/\n",
    "\n",
    "def catalog_coverage(recommended_items, catalog_items):\n",
    "    unique_recommended_items = set(recommended_items.flatten())\n",
    "    unique_catalog_items = set(catalog_items.flatten())\n",
    "\n",
    "    coverage_score = len(unique_recommended_items) / len(unique_catalog_items)\n",
    "    return coverage_score\n",
    "\n",
    " # Recommended item predictions from the model\n",
    "recommended_items = model.predict(x_val) \n",
    "catalog_items = df_subset[\"book\"].unique() \n",
    "\n",
    "coverage_score = catalog_coverage(recommended_items, catalog_items)\n",
    "print(\"Catalog Coverage: {:.2%}\".format(coverage_score))"
   ]
  },
  {
   "cell_type": "code",
   "execution_count": 43,
   "id": "b35f287a",
   "metadata": {},
   "outputs": [
    {
     "name": "stdout",
     "output_type": "stream",
     "text": [
      "546/546 [==============================] - 1s 2ms/step\n",
      "Mean Average Precision (MAP) @10: 1.0000\n"
     ]
    }
   ],
   "source": [
    "import numpy as np\n",
    "\n",
    "def calculate_map(model, x, y, k):\n",
    "    # Get the predicted ratings for the given inputs\n",
    "    ratings = model.predict(x)\n",
    "\n",
    "    # Initialize variables to store average precision and count of relevant items\n",
    "    avg_precision = 0.0\n",
    "    num_relevant = 0\n",
    "\n",
    "    # Iterate over each user's ratings and calculate average precision\n",
    "    for i in range(len(x)):\n",
    "        predicted_indices = np.argsort(ratings[i])[::-1]\n",
    "        predicted_indices = predicted_indices[:k]  # Consider only top-k predictions\n",
    "\n",
    "        # Get the ground truth ratings for the user\n",
    "        ground_truth_indices = np.where(y[i] > 0)[0]\n",
    "\n",
    "        # Calculate precision at each position\n",
    "        precision = 0.0\n",
    "        num_correct = 0\n",
    "\n",
    "        for j, pred_index in enumerate(predicted_indices):\n",
    "            if pred_index in ground_truth_indices:\n",
    "                num_correct += 1\n",
    "                precision += num_correct / (j + 1)\n",
    "\n",
    "        if num_correct > 0:\n",
    "            precision /= num_correct\n",
    "            avg_precision += precision\n",
    "            num_relevant += 1\n",
    "\n",
    "    if num_relevant > 0:\n",
    "        avg_precision /= num_relevant\n",
    "\n",
    "    return avg_precision\n",
    "\n",
    "k = 10  # Top-k predictions to consider\n",
    "map_score = calculate_map(model, x_val, y_val, k)\n",
    "print(\"Mean Average Precision (MAP) @{}: {:.4f}\".format(k, map_score))\n"
   ]
  },
  {
   "cell_type": "code",
   "execution_count": 46,
   "id": "953b7c24",
   "metadata": {},
   "outputs": [
    {
     "name": "stdout",
     "output_type": "stream",
     "text": [
      "546/546 [==============================] - 1s 1ms/step\n",
      "F1-score: 0.6487252199136933\n"
     ]
    }
   ],
   "source": [
    "# code theory from https://scikit-learn.org/stable/modules/generated/sklearn.metrics.precision_score.html\n",
    "predicted_ratings = model.predict(x_val)\n",
    "predicted_ratings = predicted_ratings * (max_rating - min_rating) + min_rating\n",
    "threshold = 0.5\n",
    "binary_predictions = (predicted_ratings >= threshold).astype(int)\n",
    "binary_labels = (y_val >= threshold).astype(int)\n",
    "\n",
    "true_positives = np.sum(binary_predictions * binary_labels)\n",
    "false_positives = np.sum(binary_predictions * (1 - binary_labels))\n",
    "false_negatives = np.sum((1 - binary_predictions) * binary_labels)\n",
    "\n",
    "precision = true_positives / (true_positives + false_positives)\n",
    "recall = true_positives / (true_positives + false_negatives)\n",
    "\n",
    "f1 = 2 * (precision * recall) / (precision + recall)\n",
    "print(\"F1-score:\", f1)\n"
   ]
  }
 ],
 "metadata": {
  "kernelspec": {
   "display_name": "Python 3 (ipykernel)",
   "language": "python",
   "name": "python3"
  },
  "language_info": {
   "codemirror_mode": {
    "name": "ipython",
    "version": 3
   },
   "file_extension": ".py",
   "mimetype": "text/x-python",
   "name": "python",
   "nbconvert_exporter": "python",
   "pygments_lexer": "ipython3",
   "version": "3.9.16"
  }
 },
 "nbformat": 4,
 "nbformat_minor": 5
}
